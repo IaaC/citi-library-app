{
  "cells": [
    {
      "cell_type": "code",
      "execution_count": null,
      "metadata": {
        "id": "qbYRhfUEw3qq"
      },
      "outputs": [],
      "source": [
        "gpu_info = !nvidia-smi\n",
        "gpu_info = '\\n'.join(gpu_info)\n",
        "if gpu_info.find('failed') >= 0:\n",
        "  print('Not connected to a GPU')\n",
        "else:\n",
        "  print(gpu_info)"
      ]
    },
    {
      "cell_type": "code",
      "execution_count": null,
      "metadata": {
        "id": "cCaw28s1w5FZ"
      },
      "outputs": [],
      "source": [
        "from psutil import virtual_memory\n",
        "ram_gb = virtual_memory().total / 1e9\n",
        "print('Your runtime has {:.1f} gigabytes of available RAM\\n'.format(ram_gb))\n",
        "\n",
        "if ram_gb < 20:\n",
        "  print('Not using a high-RAM runtime')\n",
        "else:\n",
        "  print('You are using a high-RAM runtime!')"
      ]
    },
    {
      "cell_type": "code",
      "execution_count": null,
      "metadata": {
        "id": "b-dKKDOy6p6P"
      },
      "outputs": [],
      "source": [
        "import os \n",
        "from google.colab import drive\n",
        "import cv2\n",
        "import numpy as np\n",
        "from google.colab.patches import cv2_imshow\n",
        "import glob"
      ]
    },
    {
      "cell_type": "code",
      "execution_count": null,
      "metadata": {
        "id": "PAjUZpcgGvjf"
      },
      "outputs": [],
      "source": [
        "mount_point = '/content/gdrive'\n",
        "drive.mount(mount_point)"
      ]
    },
    {
      "cell_type": "markdown",
      "metadata": {
        "id": "7wNjDKdQy35h"
      },
      "source": [
        "# Install"
      ]
    },
    {
      "cell_type": "code",
      "execution_count": null,
      "metadata": {
        "id": "TRm-USlsHgEV"
      },
      "outputs": [],
      "source": [
        "!git clone https://github.com/junyanz/pytorch-CycleGAN-and-pix2pix"
      ]
    },
    {
      "cell_type": "code",
      "execution_count": null,
      "metadata": {
        "id": "Pt3igws3eiVp"
      },
      "outputs": [],
      "source": [
        "import os\n",
        "os.chdir('pytorch-CycleGAN-and-pix2pix/')"
      ]
    },
    {
      "cell_type": "code",
      "execution_count": null,
      "metadata": {
        "id": "z1EySlOXwwoa"
      },
      "outputs": [],
      "source": [
        "!pip install -r requirements.txt"
      ]
    },
    {
      "cell_type": "markdown",
      "metadata": {
        "id": "yFw1kDQBx3LN"
      },
      "source": [
        "# Training\n",
        "\n",
        "-   `python train.py --dataroot ./datasets/facades --name facades_pix2pix --model pix2pix --direction BtoA`\n",
        "\n",
        "Change the `--dataroot` and `--name` to your own dataset's path and model's name. Use `--gpu_ids 0,1,..` to train on multiple GPUs and `--batch_size` to change the batch size. Add `--direction BtoA` if you want to train a model to transfrom from class B to A."
      ]
    },
    {
      "cell_type": "code",
      "execution_count": null,
      "metadata": {
        "id": "0sp7TCT2x9dB"
      },
      "outputs": [],
      "source": [
        "!python train.py --dataroot /content/gdrive/MyDrive/CITY_LIBRARY/facade_dataset_aug_3 --name CITY_LIBRARY_pix2pix_9 --model pix2pix --direction AtoB --use_wandb --n_epochs 5000 --n_epochs_decay 200 --lr 0.001 --save_epoch_freq 200 --checkpoints_dir /content/gdrive/MyDrive/CITY_LIBRARY/checkpoints --continue_train --epoch_count 2300"
      ]
    },
    {
      "cell_type": "markdown",
      "metadata": {
        "id": "9UkcaFZiyASl"
      },
      "source": [
        "# Testing\n",
        "\n",
        "-   `python test.py --dataroot ./datasets/facades --direction BtoA --model pix2pix --name facades_pix2pix`\n",
        "\n",
        "Change the `--dataroot`, `--name`, and `--direction` to be consistent with your trained model's configuration and how you want to transform images.\n",
        "\n",
        "> from https://github.com/junyanz/pytorch-CycleGAN-and-pix2pix:\n",
        "> Note that we specified --direction BtoA as Facades dataset's A to B direction is photos to labels.\n",
        "\n",
        "> If you would like to apply a pre-trained model to a collection of input images (rather than image pairs), please use --model test option. See ./scripts/test_single.sh for how to apply a model to Facade label maps (stored in the directory facades/testB).\n",
        "\n",
        "> See a list of currently available models at ./scripts/download_pix2pix_model.sh"
      ]
    },
    {
      "cell_type": "code",
      "execution_count": null,
      "metadata": {
        "id": "uCsKkEq0yGh0"
      },
      "outputs": [],
      "source": [
        "!python test.py --dataroot /content/gdrive/MyDrive/CITYLIBRARY/03-cropped/ --direction AtoB --model pix2pix --checkpoints_dir /content/gdrive/MyDrive/CITYLIBRARY/checkpoints/ --name CITY_LIBRARY_pix2pix_2 --use_wandb --results_dir /content/gdrive/MyDrive/CITYLIBRARY"
      ]
    },
    {
      "cell_type": "code",
      "execution_count": null,
      "metadata": {
        "id": "fyGgx5cTZvvX"
      },
      "outputs": [],
      "source": []
    },
    {
      "cell_type": "code",
      "execution_count": null,
      "metadata": {
        "id": "2GwmGCxaVoZx"
      },
      "outputs": [],
      "source": [
        "#to download the file\n",
        "!zip -r /content/pytorch-CycleGAN-and-pix2pix/pytorch-CycleGAN-and-pix2pix/checkpoints.zip /content/pytorch-CycleGAN-and-pix2pix/pytorch-CycleGAN-and-pix2pix/checkpoints"
      ]
    },
    {
      "cell_type": "code",
      "execution_count": null,
      "metadata": {
        "id": "TXpuyUSmV-gy"
      },
      "outputs": [],
      "source": [
        "from google.colab import files\n",
        "files.download(\"/content/pytorch-CycleGAN-and-pix2pix/pytorch-CycleGAN-and-pix2pix/checkpoints.zip\")"
      ]
    },
    {
      "cell_type": "code",
      "execution_count": null,
      "metadata": {
        "id": "mey7o6j-0368"
      },
      "outputs": [],
      "source": [
        "!ls /content/gdrive/MyDrive/CITYLIBRARY/checkpoints"
      ]
    },
    {
      "cell_type": "code",
      "execution_count": null,
      "metadata": {
        "id": "y1GkmvFx8MJM"
      },
      "outputs": [],
      "source": [
        "import cv2, numpy as np\n",
        "from sklearn.cluster import KMeans\n",
        "from google.colab.patches import cv2_imshow\n",
        "import glob"
      ]
    },
    {
      "cell_type": "code",
      "execution_count": null,
      "metadata": {
        "id": "xheND2oz7V2_"
      },
      "outputs": [],
      "source": [
        "path = \"/content/gdrive/MyDrive/CITYLIBRARY/02-img_dataset/*.png\"\n",
        "\n",
        "img_number = 1\n",
        "\n",
        "for file in glob.glob(path):\n",
        "  print(file)\n",
        "  img = cv2.imread(file)\n",
        "\n",
        "  cropped_image = img[0 : 256, 0 : 256]\n",
        "\n",
        "  cv2.imwrite('/content/gdrive/MyDrive/CITYLIBRARY/03-cropped/test/crop'+str(img_number)+\".png\",cropped_image )\n",
        "  img_number +=1"
      ]
    },
    {
      "cell_type": "code",
      "execution_count": null,
      "metadata": {
        "id": "110eufxvBE7V"
      },
      "outputs": [],
      "source": [
        "#to download the file\n",
        "!zip -r /content/pytorch-CycleGAN-and-pix2pix/results/facades_pix2pix_4/test_latest/images.zip /content/pytorch-CycleGAN-and-pix2pix/results/facades_pix2pix_4/test_latest/images"
      ]
    },
    {
      "cell_type": "code",
      "execution_count": null,
      "metadata": {
        "id": "eznCZGsvBXDA"
      },
      "outputs": [],
      "source": [
        "from google.colab import files\n",
        "files.download(\"/content/pytorch-CycleGAN-and-pix2pix/results/facades_pix2pix_4/test_latest/images.zip\")"
      ]
    },
    {
      "cell_type": "markdown",
      "metadata": {
        "id": "OzSKIPUByfiN"
      },
      "source": [
        "# Visualize"
      ]
    },
    {
      "cell_type": "code",
      "execution_count": null,
      "metadata": {
        "id": "9Mgg8raPyizq"
      },
      "outputs": [],
      "source": [
        "import matplotlib.pyplot as plt\n",
        "\n",
        "img = plt.imread('./results/facades_pix2pix_2/test_latest/images/41.39774762177625,2.2011420260986223_0_fake_B.png')\n",
        "plt.imshow(img)"
      ]
    },
    {
      "cell_type": "code",
      "execution_count": null,
      "metadata": {
        "id": "0G3oVH9DyqLQ"
      },
      "outputs": [],
      "source": [
        "img = plt.imread('./results/facades_pix2pix_2/test_latest/images/41.39774762177625,2.2011420260986223_0_real_A.png')\n",
        "plt.imshow(img)"
      ]
    },
    {
      "cell_type": "code",
      "execution_count": null,
      "metadata": {
        "id": "ErK5OC1j1LH4"
      },
      "outputs": [],
      "source": [
        "img = plt.imread('./results/facades_pix2pix/test_latest/images/100_real_B.png')\n",
        "plt.imshow(img)"
      ]
    },
    {
      "cell_type": "code",
      "execution_count": null,
      "metadata": {
        "id": "EgbTtqlxBD5U"
      },
      "outputs": [],
      "source": []
    }
  ],
  "metadata": {
    "accelerator": "GPU",
    "colab": {
      "machine_shape": "hm",
      "provenance": []
    },
    "environment": {
      "name": "tf2-gpu.2-3.m74",
      "type": "gcloud",
      "uri": "gcr.io/deeplearning-platform-release/tf2-gpu.2-3:m74"
    },
    "kernelspec": {
      "display_name": "Python 3",
      "language": "python",
      "name": "python3"
    },
    "language_info": {
      "codemirror_mode": {
        "name": "ipython",
        "version": 3
      },
      "file_extension": ".py",
      "mimetype": "text/x-python",
      "name": "python",
      "nbconvert_exporter": "python",
      "pygments_lexer": "ipython3",
      "version": "3.7.10"
    }
  },
  "nbformat": 4,
  "nbformat_minor": 0
}